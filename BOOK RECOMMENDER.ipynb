{
 "cells": [
  {
   "cell_type": "code",
   "execution_count": 2,
   "metadata": {},
   "outputs": [
    {
     "name": "stderr",
     "output_type": "stream",
     "text": [
      "b'Skipping line 6452: expected 8 fields, saw 9\\nSkipping line 43667: expected 8 fields, saw 10\\nSkipping line 51751: expected 8 fields, saw 9\\n'\n",
      "b'Skipping line 92038: expected 8 fields, saw 9\\nSkipping line 104319: expected 8 fields, saw 9\\nSkipping line 121768: expected 8 fields, saw 9\\n'\n",
      "b'Skipping line 144058: expected 8 fields, saw 9\\nSkipping line 150789: expected 8 fields, saw 9\\nSkipping line 157128: expected 8 fields, saw 9\\nSkipping line 180189: expected 8 fields, saw 9\\nSkipping line 185738: expected 8 fields, saw 9\\n'\n",
      "b'Skipping line 209388: expected 8 fields, saw 9\\nSkipping line 220626: expected 8 fields, saw 9\\nSkipping line 227933: expected 8 fields, saw 11\\nSkipping line 228957: expected 8 fields, saw 10\\nSkipping line 245933: expected 8 fields, saw 9\\nSkipping line 251296: expected 8 fields, saw 9\\nSkipping line 259941: expected 8 fields, saw 9\\nSkipping line 261529: expected 8 fields, saw 9\\n'\n",
      "/root/anaconda3/lib/python3.6/site-packages/IPython/core/interactiveshell.py:2785: DtypeWarning: Columns (3) have mixed types. Specify dtype option on import or set low_memory=False.\n",
      "  interactivity=interactivity, compiler=compiler, result=result)\n"
     ]
    },
    {
     "name": "stdout",
     "output_type": "stream",
     "text": [
      "enter book name1984\n",
      "book suggestion for:1984\n",
      "\n",
      "Animal Farm\n",
      "The Handmaid's Tale\n",
      "The Catcher in the Rye\n",
      "Lord of the Flies\n",
      "The Vampire Lestat (Vampire Chronicles, Book II)\n"
     ]
    }
   ],
   "source": [
    "#importing libraries\n",
    "import numpy as np\n",
    "import pandas as pd\n",
    "import csv\n",
    "\n",
    "#importing dataset (book)\n",
    "books=pd.read_csv(\"./BX-Books.csv\",sep=';',error_bad_lines=False,encoding='latin-1',skip_blank_lines=True)\n",
    "\n",
    "#selection of required column\n",
    "\n",
    "#books=books[['ISBN','Book-Title','Book-Author']]\n",
    "books=books.iloc[:,0:3]\n",
    "books.columns=[\"ISBN\",\"Book Name\",\"Author\"]\n",
    "\n",
    "#importing another dataset\n",
    "ratings=pd.read_csv(\"./BX-Book-Ratings.csv\",sep=';',error_bad_lines=False,warn_bad_lines=Fal,encoding='latin-1')\n",
    "\n",
    "#selection of required column\n",
    "ratings.columns=[\"User_id\",\"ISBN\",\"Rating\"]\n",
    "\n",
    "#selecting those user who read min 200 books\n",
    "user_min=ratings['User_id'].value_counts()\n",
    "user_min=user_min[user_min>200]\n",
    "ratings=ratings[ratings['User_id'].isin(user_min.index)]\n",
    "\n",
    "#here we select ratings from those users which is in user_min so for that we choose their index(i.e,user_id)\n",
    "ratings.head(1)\n",
    "ratings_with_bookname=ratings.merge(books, on='ISBN')\n",
    "\n",
    "#here value reduce becoz there are books which are not in book\n",
    "final_ratings_with_bookname=ratings_with_bookname.groupby('Book Name')['Rating'].agg('count').reset_index().rename(columns={'Rating':'num_ratings'})\n",
    "\n",
    "\n",
    "#merging two data\n",
    "ultimate_final_ratings_with_bookname=ratings_with_bookname.merge(final_ratings_with_bookname, on=\"Book Name\")\n",
    "#masking operation\n",
    "mask=ultimate_final_ratings_with_bookname[\"num_ratings\"]>=50\n",
    "ultimate_final_ratings_with_bookname=ultimate_final_ratings_with_bookname[mask]\n",
    "ultimate_final=ultimate_final_ratings_with_bookname.drop_duplicates(['User_id','Book Name'])\n",
    "ultimate_pivot=ultimate_final.pivot_table(values='Rating',index='Book Name',columns='User_id').fillna(0)\n",
    "\n",
    "#sparse matrix\n",
    "from scipy.sparse import csr_matrix\n",
    "ultimate_sparse=csr_matrix(ultimate_pivot)\n",
    "\n",
    "#applying NN algorithm\n",
    "from sklearn.neighbors import NearestNeighbors\n",
    "nn=NearestNeighbors(metric='cosine',algorithm='brute')\n",
    "nn.fit(ultimate_sparse)\n",
    "#distances,suggestion=nn.kneighbors(ultimate_pivot.iloc[237,:].values.reshape(1,-1),n_neighbors=6)\n",
    "#suggestion=suggestion.ravel()\n",
    "\n",
    "#function block  of book recomender\n",
    "def suggest(book_name):\n",
    "   #taking book index \n",
    "    bindex=np.where(ultimate_pivot.index==book_name)[0][0]\n",
    "    #\n",
    "    distances,suggestion=nn.kneighbors(ultimate_pivot.iloc[bindex,:].values.reshape(1,-1),n_neighbors=6)\n",
    "    #flattenning of matrix\n",
    "    suggestion=suggestion.ravel()\n",
    "    for i in range(len(suggestion)):\n",
    "        if i==0:\n",
    "            print(\"book suggestion for:{}\\n\".format(ultimate_pivot.index[suggestion[i]]),flush=True)\n",
    "        else:\n",
    "             print(ultimate_pivot.index[suggestion[i]])\n",
    "suggest(input(\"enter book name\"))"
   ]
  },
  {
   "cell_type": "code",
   "execution_count": null,
   "metadata": {},
   "outputs": [],
   "source": []
  }
 ],
 "metadata": {
  "kernelspec": {
   "display_name": "Python 3",
   "language": "python",
   "name": "python3"
  },
  "language_info": {
   "codemirror_mode": {
    "name": "ipython",
    "version": 3
   },
   "file_extension": ".py",
   "mimetype": "text/x-python",
   "name": "python",
   "nbconvert_exporter": "python",
   "pygments_lexer": "ipython3",
   "version": "3.6.5"
  }
 },
 "nbformat": 4,
 "nbformat_minor": 2
}

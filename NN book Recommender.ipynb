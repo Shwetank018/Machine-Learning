import numpy as np
import pandas as pd
import csv

books=pd.read_csv("./BX-Books.csv",sep=';',error_bad_lines=False,encoding='latin-1')

#books=books[['ISBN','Book-Title','Book-Author']]
books=books.iloc[:,0:3]
books.columns=["ISBN","Book Name","Author"]

ratings=pd.read_csv("./BX-Book-Ratings.csv",sep=';',error_bad_lines=False,encoding='latin-1')
ratings.columns=["User_id","ISBN","Rating"]

user_min=ratings['User_id'].value_counts()
user_min=user_min[user_min>200]
ratings=ratings[ratings['User_id'].isin(user_min.index)]

#here we ratings from those users which is in user_min so for that we choose their index(i.e,user_id)
ratings.head(1)
ratings_with_bookname=ratings.merge(books, on='ISBN')

#here value reduce becoz there are books which are not in book

final_ratings_with_bookname=ratings_with_bookname.groupby('Book Name')['Rating'].agg('count').reset_index().rename(columns={'Rating':'num_ratings'})



ultimate_final_ratings_with_bookname=ratings_with_bookname.merge(final_ratings_with_bookname, on="Book Name")

mask=ultimate_final_ratings_with_bookname["num_ratings"]>=50
ultimate_final_ratings_with_bookname=ultimate_final_ratings_with_bookname[mask]
ultimate_final=ultimate_final_ratings_with_bookname.drop_duplicates(['User_id','Book Name'])
ultimate_pivot=ultimate_final.pivot_table(values='Rating',index='Book Name',columns='User_id').fillna(0)

from scipy.sparse import csr_matrix
ultimate_sparse=csr_matrix(ultimate_pivot)

from sklearn.neighbors import NearestNeighbors
nn=NearestNeighbors(metric='cosine',algorithm='brute')
nn.fit(ultimate_sparse)
#distances,suggestion=nn.kneighbors(ultimate_pivot.iloc[237,:].values.reshape(1,-1),n_neighbors=6)
#suggestion=suggestion.ravel()
 
def suggest(book_name):
    bindex=np.where(ultimate_pivot.index==book_name)[0][0]

    distances,suggestion=nn.kneighbors(ultimate_pivot.iloc[bindex,:].values.reshape(1,-1),n_neighbors=6)
    suggestion=suggestion.ravel()
    for i in range(len(suggestion)):
        if i==0:
            print("book suggestion for:{}\n".format(ultimate_pivot.index[suggestion[i]]))


        else:

            print(ultimate_pivot.index[suggestion[i]])
suggest(input())

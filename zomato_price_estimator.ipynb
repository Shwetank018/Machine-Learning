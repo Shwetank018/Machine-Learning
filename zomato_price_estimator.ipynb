{
 "cells": [
  {
   "cell_type": "code",
   "execution_count": 1,
   "metadata": {},
   "outputs": [],
   "source": [
    "#importing libraries\n",
    "import numpy as np\n",
    "import pandas as pd\n",
    "import seaborn as sns\n",
    "import matplotlib.pyplot as plt\n",
    "%matplotlib inline"
   ]
  },
  {
   "cell_type": "code",
   "execution_count": 2,
   "metadata": {},
   "outputs": [],
   "source": [
    "#importing dataset\n",
    "zomato=pd.read_csv('zomato.csv',encoding='latin-1')"
   ]
  },
  {
   "cell_type": "code",
   "execution_count": 3,
   "metadata": {},
   "outputs": [
    {
     "data": {
      "text/plain": [
       "(9551, 21)"
      ]
     },
     "execution_count": 3,
     "metadata": {},
     "output_type": "execute_result"
    }
   ],
   "source": [
    "#checking shape \n",
    "zomato.shape"
   ]
  },
  {
   "cell_type": "code",
   "execution_count": 4,
   "metadata": {},
   "outputs": [
    {
     "name": "stdout",
     "output_type": "stream",
     "text": [
      "<class 'pandas.core.frame.DataFrame'>\n",
      "RangeIndex: 9551 entries, 0 to 9550\n",
      "Data columns (total 21 columns):\n",
      "Restaurant ID           9551 non-null int64\n",
      "Restaurant Name         9551 non-null object\n",
      "Country Code            9551 non-null int64\n",
      "City                    9551 non-null object\n",
      "Address                 9551 non-null object\n",
      "Locality                9551 non-null object\n",
      "Locality Verbose        9551 non-null object\n",
      "Longitude               9551 non-null float64\n",
      "Latitude                9551 non-null float64\n",
      "Cuisines                9542 non-null object\n",
      "Average Cost for two    9551 non-null int64\n",
      "Currency                9551 non-null object\n",
      "Has Table booking       9551 non-null object\n",
      "Has Online delivery     9551 non-null object\n",
      "Is delivering now       9551 non-null object\n",
      "Switch to order menu    9551 non-null object\n",
      "Price range             9551 non-null int64\n",
      "Aggregate rating        9551 non-null float64\n",
      "Rating color            9551 non-null object\n",
      "Rating text             9551 non-null object\n",
      "Votes                   9551 non-null int64\n",
      "dtypes: float64(3), int64(5), object(13)\n",
      "memory usage: 1.5+ MB\n"
     ]
    }
   ],
   "source": [
    "##checking info\n",
    "zomato.info()"
   ]
  },
  {
   "cell_type": "code",
   "execution_count": 5,
   "metadata": {},
   "outputs": [
    {
     "data": {
      "text/plain": [
       "Average Cost for two    1.000000\n",
       "Price range             0.075083\n",
       "Votes                   0.067783\n",
       "Aggregate rating        0.051792\n",
       "Longitude               0.045891\n",
       "Country Code            0.043225\n",
       "Restaurant ID          -0.001693\n",
       "Latitude               -0.111088\n",
       "Name: Average Cost for two, dtype: float64"
      ]
     },
     "execution_count": 5,
     "metadata": {},
     "output_type": "execute_result"
    }
   ],
   "source": [
    "#checking corrleation of avg price with other\n",
    "#note:here only columns having int datatypes will be showing coz avg price is int type of data\n",
    "corr=zomato.corr()\n",
    "corr\n",
    "corr['Average Cost for two'].sort_values(ascending=False)"
   ]
  },
  {
   "cell_type": "code",
   "execution_count": 6,
   "metadata": {},
   "outputs": [
    {
     "data": {
      "text/plain": [
       "1      8652\n",
       "216     434\n",
       "215      80\n",
       "214      60\n",
       "30       60\n",
       "189      60\n",
       "148      40\n",
       "208      34\n",
       "14       24\n",
       "162      22\n",
       "94       21\n",
       "191      20\n",
       "166      20\n",
       "184      20\n",
       "37        4\n",
       "Name: Country Code, dtype: int64"
      ]
     },
     "execution_count": 6,
     "metadata": {},
     "output_type": "execute_result"
    }
   ],
   "source": [
    "#checking data for different countries\n",
    "zomato['Country Code'].value_counts()"
   ]
  },
  {
   "cell_type": "code",
   "execution_count": 7,
   "metadata": {},
   "outputs": [
    {
     "data": {
      "text/plain": [
       "(8652, 21)"
      ]
     },
     "execution_count": 7,
     "metadata": {},
     "output_type": "execute_result"
    }
   ],
   "source": [
    "#masking country code column which is equal to 1\n",
    "n=zomato[\"Country Code\"]==1\n",
    "zomato=zomato[n]\n",
    "zomato.shape"
   ]
  },
  {
   "cell_type": "code",
   "execution_count": 8,
   "metadata": {},
   "outputs": [
    {
     "data": {
      "text/plain": [
       "New Delhi       5473\n",
       "Gurgaon         1118\n",
       "Noida           1080\n",
       "Faridabad        251\n",
       "Ghaziabad         25\n",
       "Bhubaneshwar      21\n",
       "Lucknow           21\n",
       "Ahmedabad         21\n",
       "Guwahati          21\n",
       "Amritsar          21\n",
       "Indore            20\n",
       "Jaipur            20\n",
       "Ranchi            20\n",
       "Bhopal            20\n",
       "Kanpur            20\n",
       "Nashik            20\n",
       "Goa               20\n",
       "Chennai           20\n",
       "Mysore            20\n",
       "Patna             20\n",
       "Allahabad         20\n",
       "Bangalore         20\n",
       "Pune              20\n",
       "Agra              20\n",
       "Aurangabad        20\n",
       "Kolkata           20\n",
       "Varanasi          20\n",
       "Puducherry        20\n",
       "Nagpur            20\n",
       "Vizag             20\n",
       "Dehradun          20\n",
       "Mangalore         20\n",
       "Coimbatore        20\n",
       "Vadodara          20\n",
       "Ludhiana          20\n",
       "Surat             20\n",
       "Mumbai            20\n",
       "Kochi             20\n",
       "Chandigarh        18\n",
       "Hyderabad         18\n",
       "Secunderabad       2\n",
       "Mohali             1\n",
       "Panchkula          1\n",
       "Name: City, dtype: int64"
      ]
     },
     "execution_count": 8,
     "metadata": {},
     "output_type": "execute_result"
    }
   ],
   "source": [
    "#checking data for different cities\n",
    "zomato['City'].value_counts()"
   ]
  },
  {
   "cell_type": "code",
   "execution_count": 9,
   "metadata": {},
   "outputs": [],
   "source": [
    "#masking cities\n",
    "m=zomato['City']=='New Delhi'\n",
    "n=zomato['City']=='Gurgaon'\n",
    "p=zomato['City']=='Noida'\n",
    "zomato=zomato[m|n|p]"
   ]
  },
  {
   "cell_type": "code",
   "execution_count": 10,
   "metadata": {},
   "outputs": [
    {
     "name": "stdout",
     "output_type": "stream",
     "text": [
      "<class 'pandas.core.frame.DataFrame'>\n",
      "Int64Index: 7671 entries, 1161 to 9112\n",
      "Data columns (total 21 columns):\n",
      "Restaurant ID           7671 non-null int64\n",
      "Restaurant Name         7671 non-null object\n",
      "Country Code            7671 non-null int64\n",
      "City                    7671 non-null object\n",
      "Address                 7671 non-null object\n",
      "Locality                7671 non-null object\n",
      "Locality Verbose        7671 non-null object\n",
      "Longitude               7671 non-null float64\n",
      "Latitude                7671 non-null float64\n",
      "Cuisines                7671 non-null object\n",
      "Average Cost for two    7671 non-null int64\n",
      "Currency                7671 non-null object\n",
      "Has Table booking       7671 non-null object\n",
      "Has Online delivery     7671 non-null object\n",
      "Is delivering now       7671 non-null object\n",
      "Switch to order menu    7671 non-null object\n",
      "Price range             7671 non-null int64\n",
      "Aggregate rating        7671 non-null float64\n",
      "Rating color            7671 non-null object\n",
      "Rating text             7671 non-null object\n",
      "Votes                   7671 non-null int64\n",
      "dtypes: float64(3), int64(5), object(13)\n",
      "memory usage: 1.3+ MB\n"
     ]
    }
   ],
   "source": [
    "#checking info again \n",
    "zomato.info()"
   ]
  },
  {
   "cell_type": "code",
   "execution_count": 11,
   "metadata": {},
   "outputs": [],
   "source": [
    "#taking only important columns\n",
    "zomato=zomato[['Restaurant Name','Cuisines','Price range','Longitude','Latitude','Aggregate rating','Votes','Average Cost for two']]"
   ]
  },
  {
   "cell_type": "code",
   "execution_count": 12,
   "metadata": {},
   "outputs": [
    {
     "name": "stdout",
     "output_type": "stream",
     "text": [
      "<class 'pandas.core.frame.DataFrame'>\n",
      "Int64Index: 7671 entries, 1161 to 9112\n",
      "Data columns (total 8 columns):\n",
      "Restaurant Name         7671 non-null object\n",
      "Cuisines                7671 non-null object\n",
      "Price range             7671 non-null int64\n",
      "Longitude               7671 non-null float64\n",
      "Latitude                7671 non-null float64\n",
      "Aggregate rating        7671 non-null float64\n",
      "Votes                   7671 non-null int64\n",
      "Average Cost for two    7671 non-null int64\n",
      "dtypes: float64(3), int64(3), object(2)\n",
      "memory usage: 539.4+ KB\n"
     ]
    }
   ],
   "source": [
    "#checking info \n",
    "zomato.info()"
   ]
  },
  {
   "cell_type": "code",
   "execution_count": 13,
   "metadata": {},
   "outputs": [
    {
     "data": {
      "text/plain": [
       "Average Cost for two    1.000000\n",
       "Price range             0.848425\n",
       "Aggregate rating        0.329785\n",
       "Votes                   0.297741\n",
       "Longitude               0.071854\n",
       "Latitude                0.070816\n",
       "Name: Average Cost for two, dtype: float64"
      ]
     },
     "execution_count": 13,
     "metadata": {},
     "output_type": "execute_result"
    }
   ],
   "source": [
    "#checking correlation of avg price  with other columns\n",
    "corr=zomato.corr()\n",
    "corr\n",
    "corr['Average Cost for two'].sort_values(ascending=False)"
   ]
  },
  {
   "cell_type": "code",
   "execution_count": 14,
   "metadata": {},
   "outputs": [
    {
     "data": {
      "text/plain": [
       "array(['Cakes & More', 'Bakery', 1, 77.04200909999999, 28.511416200000003,\n",
       "       3.0, 4], dtype=object)"
      ]
     },
     "execution_count": 14,
     "metadata": {},
     "output_type": "execute_result"
    }
   ],
   "source": [
    "#assinging values of X\n",
    "X=zomato.iloc[:,:-1].values\n",
    "X[4]"
   ]
  },
  {
   "cell_type": "code",
   "execution_count": 15,
   "metadata": {},
   "outputs": [],
   "source": [
    "#assigning value of y\n",
    "y=zomato.iloc[:,-1]\n"
   ]
  },
  {
   "cell_type": "code",
   "execution_count": 16,
   "metadata": {},
   "outputs": [],
   "source": [
    "##encoding and fitting\n",
    "from sklearn.preprocessing import LabelEncoder,OneHotEncoder\n",
    "##handling categorical data\n",
    "#label encoding for columns contain strings\n",
    "labelencoder_y=LabelEncoder()\n",
    "labelencoder_X=LabelEncoder()\n",
    "##doing one hot encoding for categorical data  columns\n",
    "X[:,0]=labelencoder_X.fit_transform(X[:,0]).astype(str)\n",
    "X[:,1]=labelencoder_X.fit_transform(X[:,1]).astype(str)\n",
    "onehotencoder_X=OneHotEncoder(categorical_features=[0,1])\n",
    "X=onehotencoder_X.fit_transform(X).toarray()\n",
    "y=labelencoder_y.fit_transform(y)\n"
   ]
  },
  {
   "cell_type": "code",
   "execution_count": 17,
   "metadata": {},
   "outputs": [
    {
     "name": "stderr",
     "output_type": "stream",
     "text": [
      "/root/anaconda3/lib/python3.6/site-packages/sklearn/cross_validation.py:41: DeprecationWarning: This module was deprecated in version 0.18 in favor of the model_selection module into which all the refactored classes and functions are moved. Also note that the interface of the new CV iterators are different from that of this module. This module will be removed in 0.20.\n",
      "  \"This module will be removed in 0.20.\", DeprecationWarning)\n"
     ]
    },
    {
     "name": "stdout",
     "output_type": "stream",
     "text": [
      "accuracy 39.519999999999996 599\n"
     ]
    }
   ],
   "source": [
    "#logistic regression\n",
    "l=range(598,600)\n",
    "lst=[]\n",
    "for j in l:\n",
    "    #splitting data (train->75%,test->25%)\n",
    "    from sklearn.cross_validation import train_test_split\n",
    "    X_train,X_test,y_train,y_test=train_test_split(X,y,test_size=0.25,random_state=j)\n",
    "    #applying algorithm\n",
    "    from sklearn.linear_model import LogisticRegression\n",
    "    clf2=LogisticRegression()\n",
    "    clf2.fit(X_train,y_train)\n",
    "    y_pred2=clf2.predict(X_test)\n",
    "    #calculating score\n",
    "    from sklearn.metrics import accuracy_score\n",
    "    lst.append(accuracy_score(y_test,y_pred2))\n",
    "print('accuracy',round(max(lst),4)*100,j)"
   ]
  },
  {
   "cell_type": "code",
   "execution_count": 18,
   "metadata": {},
   "outputs": [
    {
     "data": {
      "text/plain": [
       "0.9047561544891166"
      ]
     },
     "execution_count": 18,
     "metadata": {},
     "output_type": "execute_result"
    }
   ],
   "source": [
    "#calculation of r2_score\n",
    "from sklearn.ensemble import RandomForestRegressor\n",
    "forest=RandomForestRegressor(n_estimators=20)\n",
    "forest.fit(X_train,y_train)\n",
    "from sklearn import metrics\n",
    "y_pred=forest.predict(X_test)\n",
    "metrics.r2_score(y_test,y_pred)"
   ]
  },
  {
   "cell_type": "code",
   "execution_count": 19,
   "metadata": {},
   "outputs": [
    {
     "name": "stderr",
     "output_type": "stream",
     "text": [
      "/root/anaconda3/lib/python3.6/site-packages/matplotlib/axes/_axes.py:6462: UserWarning: The 'normed' kwarg is deprecated, and has been replaced by the 'density' kwarg.\n",
      "  warnings.warn(\"The 'normed' kwarg is deprecated, and has been \"\n"
     ]
    },
    {
     "data": {
      "text/plain": [
       "<matplotlib.axes._subplots.AxesSubplot at 0x7fb993408a58>"
      ]
     },
     "execution_count": 19,
     "metadata": {},
     "output_type": "execute_result"
    },
    {
     "data": {
      "image/png": "[encoded data removed]",
      "text/plain": [
       "<Figure size 432x288 with 1 Axes>"
      ]
     },
     "metadata": {},
     "output_type": "display_data"
    }
   ],
   "source": [
    "#checking smoothness of curve\n",
    "sns.distplot(y_test-y_pred)"
   ]
  },
  {
   "cell_type": "code",
   "execution_count": null,
   "metadata": {},
   "outputs": [],
   "source": []
  }
 ],
 "metadata": {
  "kernelspec": {
   "display_name": "Python 3",
   "language": "python",
   "name": "python3"
  },
  "language_info": {
   "codemirror_mode": {
    "name": "ipython",
    "version": 3
   },
   "file_extension": ".py",
   "mimetype": "text/x-python",
   "name": "python",
   "nbconvert_exporter": "python",
   "pygments_lexer": "ipython3",
   "version": "3.6.5"
  }
 },
 "nbformat": 4,
 "nbformat_minor": 2
}
